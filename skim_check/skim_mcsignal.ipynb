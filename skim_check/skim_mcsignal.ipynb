{
 "cells": [
  {
   "cell_type": "markdown",
   "id": "broken-third",
   "metadata": {},
   "source": [
    "# checking efficiency and number of events that pass the skims"
   ]
  },
  {
   "cell_type": "code",
   "execution_count": 1,
   "id": "attractive-drilling",
   "metadata": {},
   "outputs": [
    {
     "name": "stdout",
     "output_type": "stream",
     "text": [
      "Welcome to JupyROOT 6.24/06\n"
     ]
    }
   ],
   "source": [
    "import ROOT"
   ]
  },
  {
   "cell_type": "code",
   "execution_count": 2,
   "id": "introductory-nothing",
   "metadata": {},
   "outputs": [],
   "source": [
    "import glob"
   ]
  },
  {
   "cell_type": "code",
   "execution_count": 3,
   "id": "coated-samba",
   "metadata": {},
   "outputs": [],
   "source": [
    "treename = \"treevpho\""
   ]
  },
  {
   "cell_type": "code",
   "execution_count": 4,
   "id": "surrounded-silicon",
   "metadata": {},
   "outputs": [],
   "source": [
    "signal_electron_mde = glob.glob(f\"./mc15_mdec_sig_e*_mc15b/sub00/*\")\n",
    "signal_muon_mde = glob.glob(f\"./mc15_mdec_sig_mu*_mc15b/sub00/*\")\n",
    "signal_electron = glob.glob(f\"./mc15_nomdec_sig_e*_mc15b/sub00/*\")\n",
    "signal_muon = glob.glob(f\"./mc15_nomdec_sig_mu*_mc15b/sub00/*\")"
   ]
  },
  {
   "cell_type": "code",
   "execution_count": 5,
   "id": "modular-alarm",
   "metadata": {},
   "outputs": [],
   "source": [
    "samples_name = [signal_electron_mde, signal_muon_mde, signal_electron,signal_muon]"
   ]
  },
  {
   "cell_type": "code",
   "execution_count": 6,
   "id": "metallic-appointment",
   "metadata": {},
   "outputs": [],
   "source": [
    "nombre = ['signal_electron_mde', 'signal_muon_mde', 'signal_electron','signal_muon']"
   ]
  },
  {
   "cell_type": "code",
   "execution_count": 7,
   "id": "small-trader",
   "metadata": {},
   "outputs": [
    {
     "name": "stdout",
     "output_type": "stream",
     "text": [
      "cargado signal_electron_mde\n",
      "cargado signal_muon_mde\n",
      "cargado signal_electron\n",
      "cargado signal_muon\n"
     ]
    }
   ],
   "source": [
    "ruidos = {}\n",
    "for i,n in enumerate(nombre):\n",
    "    try:\n",
    "        ruidos[n]={}\n",
    "        ruidos[n]['df'] = ROOT.RDataFrame(treename,samples_name[i]) \n",
    "        print(\"cargado\",n)\n",
    "    except Exception as e:\n",
    "        print('---->',n)\n",
    "        print(e,'\\n\\n')\n",
    "        del ruidos[n]"
   ]
  },
  {
   "cell_type": "code",
   "execution_count": 8,
   "id": "narrow-brief",
   "metadata": {
    "tags": []
   },
   "outputs": [],
   "source": [
    "#print(ruidos['signal_electron_mde']['df'].GetColumnNames())"
   ]
  },
  {
   "cell_type": "code",
   "execution_count": 9,
   "id": "exceptional-queensland",
   "metadata": {},
   "outputs": [],
   "source": [
    "name_trigger=[ \"no skim\",\"passes_TauThrust\", \"passes_TauGeneric\", \"passes_TauLFV\"]"
   ]
  },
  {
   "cell_type": "code",
   "execution_count": 10,
   "id": "fancy-yield",
   "metadata": {},
   "outputs": [],
   "source": [
    "pass_trigger = ['tau_sig_isSignal == 1 ','tau_sig_isSignal == 1 & passes_TauThrust == 1', 'tau_sig_isSignal == 1 & passes_TauGeneric == 1','tau_sig_isSignal == 1 & passes_TauLFV == 1']"
   ]
  },
  {
   "cell_type": "code",
   "execution_count": 11,
   "id": "earlier-essence",
   "metadata": {},
   "outputs": [],
   "source": [
    "#name_trigger=[ \"no trigger\", \"passes_TauLFV\"]"
   ]
  },
  {
   "cell_type": "code",
   "execution_count": 12,
   "id": "useful-strength",
   "metadata": {},
   "outputs": [],
   "source": [
    "#pass_trigger = ['tau_sig_isSignal == 1 ','tau_sig_isSignal == 1 & passes_TauLFV == 1']"
   ]
  },
  {
   "cell_type": "code",
   "execution_count": 13,
   "id": "exempt-holly",
   "metadata": {},
   "outputs": [],
   "source": [
    "lista_results_eff=[]\n",
    "lista_results_event=[]"
   ]
  },
  {
   "cell_type": "code",
   "execution_count": 14,
   "id": "french-intellectual",
   "metadata": {},
   "outputs": [
    {
     "name": "stdout",
     "output_type": "stream",
     "text": [
      "tau_sig_isSignal == 1 \n",
      "------------------------------------------------------------------------------------------\n",
      "signal_electron_mde \t ---> 1180436 ---eff-> 29.51\n",
      "------------------------------------------------------------------------------------------\n",
      "signal_muon_mde \t ---> 1683170 ---eff-> 42.08\n",
      "------------------------------------------------------------------------------------------\n",
      "signal_electron \t ---> 1498724 ---eff-> 37.47\n",
      "------------------------------------------------------------------------------------------\n",
      "signal_muon \t ---> 1764331 ---eff-> 44.11\n",
      "tau_sig_isSignal == 1 & passes_TauThrust == 1\n",
      "------------------------------------------------------------------------------------------\n",
      "signal_electron_mde \t ---> 1154776 ---eff-> 28.87\n",
      "------------------------------------------------------------------------------------------\n",
      "signal_muon_mde \t ---> 1645646 ---eff-> 41.14\n",
      "------------------------------------------------------------------------------------------\n",
      "signal_electron \t ---> 1443313 ---eff-> 36.08\n",
      "------------------------------------------------------------------------------------------\n",
      "signal_muon \t ---> 1698708 ---eff-> 42.47\n",
      "tau_sig_isSignal == 1 & passes_TauGeneric == 1\n",
      "------------------------------------------------------------------------------------------\n",
      "signal_electron_mde \t ---> 1010558 ---eff-> 25.26\n",
      "------------------------------------------------------------------------------------------\n",
      "signal_muon_mde \t ---> 1549165 ---eff-> 38.73\n",
      "------------------------------------------------------------------------------------------\n",
      "signal_electron \t ---> 1287678 ---eff-> 32.19\n",
      "------------------------------------------------------------------------------------------\n",
      "signal_muon \t ---> 1621444 ---eff-> 40.54\n",
      "tau_sig_isSignal == 1 & passes_TauLFV == 1\n",
      "------------------------------------------------------------------------------------------\n",
      "signal_electron_mde \t ---> 1180436 ---eff-> 29.51\n",
      "------------------------------------------------------------------------------------------\n",
      "signal_muon_mde \t ---> 1683170 ---eff-> 42.08\n",
      "------------------------------------------------------------------------------------------\n",
      "signal_electron \t ---> 1394230 ---eff-> 34.86\n",
      "------------------------------------------------------------------------------------------\n",
      "signal_muon \t ---> 1689647 ---eff-> 42.24\n"
     ]
    }
   ],
   "source": [
    "for j,element in enumerate(pass_trigger):\n",
    "    lista_trigger_eff=[]\n",
    "    lista_trigger_event=[]\n",
    "    lista_trigger_eff.append(name_trigger[j])\n",
    "    lista_trigger_event.append(name_trigger[j])\n",
    "    print(element)\n",
    "    for ruido in ruidos:\n",
    "        print('------------------------------------------------------------------------------------------')\n",
    "        if ruido in ['signal_electron_mde','signal_electron']:\n",
    "            cuts = element +' & dmID_1prong == 11'\n",
    "        else:\n",
    "            cuts = element +' & dmID_1prong == 13'\n",
    "        count=ruidos[ruido][\"df\"].Filter(cuts).Count()\n",
    "        print(ruido,\"\\t --->\",count.GetValue(),\"---eff->\",round(count.GetValue()*100/4000000, 2))\n",
    "        lista_trigger_event.append(count.GetValue())\n",
    "        lista_trigger_eff.append(round(count.GetValue()*100/4000000, 2))\n",
    "    lista_results_eff.append(lista_trigger_eff)\n",
    "    lista_results_event.append(lista_trigger_event)"
   ]
  },
  {
   "cell_type": "code",
   "execution_count": 15,
   "id": "cardiovascular-species",
   "metadata": {},
   "outputs": [],
   "source": [
    "from IPython.display import HTML, display"
   ]
  },
  {
   "cell_type": "code",
   "execution_count": 16,
   "id": "metropolitan-australian",
   "metadata": {},
   "outputs": [],
   "source": [
    "def display_table1(data, caption):\n",
    "    i=0\n",
    "    html = \"<table style='width:50%'>\"\n",
    "    html+= \"<caption>%s</caption>\" %caption\n",
    "    for row in range(0,len(data[0])):\n",
    "        html += \"<tr>\"\n",
    "        for field in [data[0][i], data[1][i], data[2][i], data[3][i], data[4][i]]:\n",
    "            html += \"<td><h4>%s</h4><td>\"%(field)\n",
    "        i+=1\n",
    "        html += \"</tr>\"\n",
    "    html += \"</table>\"\n",
    "    display(HTML(html))"
   ]
  },
  {
   "cell_type": "code",
   "execution_count": 17,
   "id": "saved-colombia",
   "metadata": {},
   "outputs": [],
   "source": [
    "lista_results_event.insert(0, [' '] + nombre)\n",
    "lista_results_eff.insert(0, [' '] + nombre)"
   ]
  },
  {
   "cell_type": "code",
   "execution_count": 18,
   "id": "elementary-amendment",
   "metadata": {},
   "outputs": [
    {
     "data": {
      "text/plain": [
       "[[' ',\n",
       "  'signal_electron_mde',\n",
       "  'signal_muon_mde',\n",
       "  'signal_electron',\n",
       "  'signal_muon'],\n",
       " ['no skim', 1180436, 1683170, 1498724, 1764331],\n",
       " ['passes_TauThrust', 1154776, 1645646, 1443313, 1698708],\n",
       " ['passes_TauGeneric', 1010558, 1549165, 1287678, 1621444],\n",
       " ['passes_TauLFV', 1180436, 1683170, 1394230, 1689647]]"
      ]
     },
     "execution_count": 18,
     "metadata": {},
     "output_type": "execute_result"
    }
   ],
   "source": [
    "lista_results_event"
   ]
  },
  {
   "cell_type": "code",
   "execution_count": 19,
   "id": "literary-elite",
   "metadata": {},
   "outputs": [
    {
     "data": {
      "text/html": [
       "<table style='width:50%'><caption>Efficiency</caption><tr><td><h4> </h4><td><td><h4>no skim</h4><td><td><h4>passes_TauThrust</h4><td><td><h4>passes_TauGeneric</h4><td><td><h4>passes_TauLFV</h4><td></tr><tr><td><h4>signal_electron_mde</h4><td><td><h4>29.51</h4><td><td><h4>28.87</h4><td><td><h4>25.26</h4><td><td><h4>29.51</h4><td></tr><tr><td><h4>signal_muon_mde</h4><td><td><h4>42.08</h4><td><td><h4>41.14</h4><td><td><h4>38.73</h4><td><td><h4>42.08</h4><td></tr><tr><td><h4>signal_electron</h4><td><td><h4>37.47</h4><td><td><h4>36.08</h4><td><td><h4>32.19</h4><td><td><h4>34.86</h4><td></tr><tr><td><h4>signal_muon</h4><td><td><h4>44.11</h4><td><td><h4>42.47</h4><td><td><h4>40.54</h4><td><td><h4>42.24</h4><td></tr></table>"
      ],
      "text/plain": [
       "<IPython.core.display.HTML object>"
      ]
     },
     "metadata": {},
     "output_type": "display_data"
    }
   ],
   "source": [
    "display_table1(lista_results_eff,\"Efficiency\")"
   ]
  },
  {
   "cell_type": "code",
   "execution_count": 20,
   "id": "controversial-liberty",
   "metadata": {},
   "outputs": [
    {
     "data": {
      "text/html": [
       "<table style='width:50%'><caption>Events</caption><tr><td><h4> </h4><td><td><h4>no skim</h4><td><td><h4>passes_TauThrust</h4><td><td><h4>passes_TauGeneric</h4><td><td><h4>passes_TauLFV</h4><td></tr><tr><td><h4>signal_electron_mde</h4><td><td><h4>1180436</h4><td><td><h4>1154776</h4><td><td><h4>1010558</h4><td><td><h4>1180436</h4><td></tr><tr><td><h4>signal_muon_mde</h4><td><td><h4>1683170</h4><td><td><h4>1645646</h4><td><td><h4>1549165</h4><td><td><h4>1683170</h4><td></tr><tr><td><h4>signal_electron</h4><td><td><h4>1498724</h4><td><td><h4>1443313</h4><td><td><h4>1287678</h4><td><td><h4>1394230</h4><td></tr><tr><td><h4>signal_muon</h4><td><td><h4>1764331</h4><td><td><h4>1698708</h4><td><td><h4>1621444</h4><td><td><h4>1689647</h4><td></tr></table>"
      ],
      "text/plain": [
       "<IPython.core.display.HTML object>"
      ]
     },
     "metadata": {},
     "output_type": "display_data"
    }
   ],
   "source": [
    "display_table1(lista_results_event,\"Events\")"
   ]
  },
  {
   "cell_type": "code",
   "execution_count": 21,
   "id": "utility-competition",
   "metadata": {},
   "outputs": [],
   "source": [
    "def MakeTLegend(xpos=0.225, ypos=0.9, size='', title='', tobjects=[], labels=[], options=[]):\n",
    "\n",
    "    entries = len(tobjects)\n",
    "    if title != '':\n",
    "        entries = entries + 1\n",
    "\n",
    "    xl = xpos\n",
    "    width = 0.25\n",
    "    xh = xl + width\n",
    "    yh = ypos\n",
    "    yl = yh - entries*0.05\n",
    "\n",
    "    leg = ROOT.TLegend(xl, yl, xh, yh)\n",
    "    leg.SetTextFont(42)\n",
    "    leg.SetLineColor(0)\n",
    "    leg.SetBorderSize(0)\n",
    "    leg.SetFillColor(0)\n",
    "    leg.SetFillStyle(0)\n",
    "    if size!='':\n",
    "        leg.SetTextSize(0.04)\n",
    "    \n",
    "    if title!= '':\n",
    "        leg.SetHeader(title)\n",
    "\n",
    "    for i, tobject in enumerate(tobjects):\n",
    "        leg.AddEntry(tobject, labels[i], options[i])\n",
    "\n",
    "    return leg"
   ]
  },
  {
   "cell_type": "code",
   "execution_count": 22,
   "id": "fundamental-north",
   "metadata": {},
   "outputs": [
    {
     "data": {
      "text/plain": [
       "['tau_sig_isSignal == 1 ',\n",
       " 'tau_sig_isSignal == 1 & passes_TauThrust == 1',\n",
       " 'tau_sig_isSignal == 1 & passes_TauGeneric == 1',\n",
       " 'tau_sig_isSignal == 1 & passes_TauLFV == 1']"
      ]
     },
     "execution_count": 22,
     "metadata": {},
     "output_type": "execute_result"
    }
   ],
   "source": [
    "pass_trigger"
   ]
  },
  {
   "cell_type": "code",
   "execution_count": 23,
   "id": "directed-browser",
   "metadata": {},
   "outputs": [
    {
     "name": "stdout",
     "output_type": "stream",
     "text": [
      "---> signal_electron_mde\n",
      "tau_sig_isSignal == 1 \n",
      "tau_sig_isSignal == 1 & passes_TauThrust == 1\n",
      "tau_sig_isSignal == 1 & passes_TauGeneric == 1\n",
      "tau_sig_isSignal == 1 & passes_TauLFV == 1\n",
      "passes_TauLFVsignal_electron_mde_m_1d_ok.png\n",
      "---> signal_muon_mde\n",
      "tau_sig_isSignal == 1 \n",
      "tau_sig_isSignal == 1 & passes_TauThrust == 1\n",
      "tau_sig_isSignal == 1 & passes_TauGeneric == 1\n",
      "tau_sig_isSignal == 1 & passes_TauLFV == 1\n",
      "passes_TauLFVsignal_muon_mde_m_1d_ok.png\n",
      "---> signal_electron\n",
      "tau_sig_isSignal == 1 \n",
      "tau_sig_isSignal == 1 & passes_TauThrust == 1\n",
      "tau_sig_isSignal == 1 & passes_TauGeneric == 1\n",
      "tau_sig_isSignal == 1 & passes_TauLFV == 1\n",
      "passes_TauLFVsignal_electron_m_1d_ok.png\n",
      "---> signal_muon\n",
      "tau_sig_isSignal == 1 \n",
      "tau_sig_isSignal == 1 & passes_TauThrust == 1\n",
      "tau_sig_isSignal == 1 & passes_TauGeneric == 1\n",
      "tau_sig_isSignal == 1 & passes_TauLFV == 1\n",
      "passes_TauLFVsignal_muon_m_1d_ok.png\n"
     ]
    },
    {
     "name": "stderr",
     "output_type": "stream",
     "text": [
      "Warning in <TCanvas::Constructor>: Deleting canvas with same name: a\n",
      "Warning in <TCanvas::Constructor>: Deleting canvas with same name: a\n",
      "Warning in <TCanvas::Constructor>: Deleting canvas with same name: a\n"
     ]
    }
   ],
   "source": [
    "for ruido in ruidos:\n",
    "    list_histos=[]\n",
    "    print('--->',ruido)\n",
    "    for j,element in enumerate(pass_trigger):\n",
    "        print(element)\n",
    "        if ruido in ['signal_electron_mde','signal_electron']:\n",
    "            cuts = element +' & dmID_1prong == 11'\n",
    "        else:\n",
    "            cuts = element +' & dmID_1prong == 13'\n",
    "        h = ruidos[ruido]['df'].Filter(cuts).Histo1D((\"mass\", \"mass\", 50, 0, 3), \"tau_sig_InvM\" )#\"tau_sig_deltaE\") #\"tau_sig_InvM\"\n",
    "        #h = ruidos[ruido]['df'].Filter(cuts).Histo2D((\"h2sig\",\"h2sig\", 20, 0, 3, 20, -2, 1), \"tau_sig_InvM\", \"tau_sig_deltaE\")\n",
    "        list_histos.append(h)\n",
    "    histo=[list_histos[i].GetValue() for i in range(0,len(list_histos))]\n",
    "    l = MakeTLegend(xpos=0.2, ypos=0.9,tobjects=histo, labels=name_trigger, options=['f' for k in range(0, len(name_trigger))])\n",
    "    canvas = ROOT.TCanvas(\"a\",\"a\", 1200,1200)\n",
    "    histo[0].SetTitle(ruido)\n",
    "    histo[0].Draw(\" \")\n",
    "    histo[0].SetLineWidth(2)\n",
    "    histo[0].SetLineColor(ROOT.kBlack)\n",
    "    histo[0].GetXaxis().SetTitle(\"M_{Inv} [GeV/c^{2}]\")\n",
    "    #histo[0].GetXaxis().SetTitle(\"#Delta E [GeV]\")\n",
    "    #histo[0].GetYaxis().SetTitleOffset(1.2)\n",
    "    histo[0].GetXaxis().SetTitleOffset(1.2)\n",
    "    histo[1].Draw('same')\n",
    "    histo[1].SetLineWidth(1)\n",
    "    histo[1].SetLineColor(ROOT.kPink)\n",
    "    histo[2].Draw('same')\n",
    "    histo[2].SetLineWidth(1)\n",
    "    histo[2].SetLineColor(ROOT.kBlue)\n",
    "    histo[3].Draw('same')\n",
    "    histo[3].SetLineWidth(1)\n",
    "    histo[3].SetLineColor(ROOT.kGreen)\n",
    "    l.Draw('same')\n",
    "    #canvas.SetLogy()\n",
    "    histo[0].SetStats(0)\n",
    "    #canvas.Draw()\n",
    "    name_file =name_trigger[j]+ruido+'_m_1d_ok.png'\n",
    "    print(name_file)\n",
    "    canvas.SaveAs(name_file)\n",
    "    #break"
   ]
  },
  {
   "cell_type": "code",
   "execution_count": null,
   "id": "permanent-consolidation",
   "metadata": {},
   "outputs": [],
   "source": []
  }
 ],
 "metadata": {
  "kernelspec": {
   "display_name": "Python [conda env:hepML]",
   "language": "python",
   "name": "conda-env-hepML-py"
  },
  "language_info": {
   "codemirror_mode": {
    "name": "ipython",
    "version": 3
   },
   "file_extension": ".py",
   "mimetype": "text/x-python",
   "name": "python",
   "nbconvert_exporter": "python",
   "pygments_lexer": "ipython3",
   "version": "3.9.7"
  }
 },
 "nbformat": 4,
 "nbformat_minor": 5
}
