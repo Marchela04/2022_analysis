{
 "cells": [
  {
   "cell_type": "markdown",
   "id": "integral-freeze",
   "metadata": {},
   "source": [
    "# Muon\n",
    "## Checking events of some backgrounds after all cuts after the annealing method of BKG reduction\n",
    "## Checking the events after a rotation\n",
    "## the rotation is defined by the signal and is calculated based on the covariance matrix and the calculation of its eigenvalues."
   ]
  },
  {
   "cell_type": "code",
   "execution_count": 1,
   "id": "altered-promotion",
   "metadata": {},
   "outputs": [],
   "source": [
    "import glob"
   ]
  },
  {
   "cell_type": "code",
   "execution_count": 2,
   "id": "given-trademark",
   "metadata": {},
   "outputs": [
    {
     "name": "stdout",
     "output_type": "stream",
     "text": [
      "Welcome to JupyROOT 6.24/06\n"
     ]
    }
   ],
   "source": [
    "import ROOT"
   ]
  },
  {
   "cell_type": "code",
   "execution_count": 3,
   "id": "educational-turkey",
   "metadata": {},
   "outputs": [],
   "source": [
    "samples_files = 'b'"
   ]
  },
  {
   "cell_type": "markdown",
   "id": "available-scene",
   "metadata": {},
   "source": [
    "BKG samples to be checked"
   ]
  },
  {
   "cell_type": "code",
   "execution_count": 4,
   "id": "consolidated-madrid",
   "metadata": {},
   "outputs": [],
   "source": [
    "mmg = glob.glob(f\"../samples_400{samples_files}/*_mumu*_*.root\")\n",
    "ss = glob.glob(f\"../samples_400{samples_files}/*_ssbar*_*.root\")\n",
    "dd = glob.glob(f\"../samples_400{samples_files}/*_ddbar*_*.root\")\n",
    "uu = glob.glob(f\"../samples_400{samples_files}/*_uubar*_*.root\")\n",
    "cc = glob.glob(f\"../samples_400{samples_files}/*_ccbar*_*.root\")"
   ]
  },
  {
   "cell_type": "code",
   "execution_count": 5,
   "id": "driving-divide",
   "metadata": {},
   "outputs": [],
   "source": [
    "cortes_MC='visibleEnergyOfEventCMS < 10'\n",
    "#and other cuts that were here"
   ]
  },
  {
   "cell_type": "code",
   "execution_count": 6,
   "id": "japanese-growing",
   "metadata": {},
   "outputs": [],
   "source": [
    "samples_name=[mmg, ss, dd, uu, cc]\n",
    "nombre=['mmg', 'ss', 'dd', 'uu', 'cc']"
   ]
  },
  {
   "cell_type": "markdown",
   "id": "known-chapel",
   "metadata": {},
   "source": [
    "Tree name, we will use RDataFrame"
   ]
  },
  {
   "cell_type": "code",
   "execution_count": 7,
   "id": "innocent-kenya",
   "metadata": {},
   "outputs": [],
   "source": [
    "treename = \"treevpho\""
   ]
  },
  {
   "cell_type": "code",
   "execution_count": 8,
   "id": "mental-dragon",
   "metadata": {},
   "outputs": [],
   "source": [
    "ruidos = {}"
   ]
  },
  {
   "cell_type": "code",
   "execution_count": 9,
   "id": "official-minutes",
   "metadata": {},
   "outputs": [
    {
     "name": "stdout",
     "output_type": "stream",
     "text": [
      "cargado mmg\n",
      "cargado ss\n",
      "cargado dd\n",
      "cargado uu\n",
      "cargado cc\n"
     ]
    }
   ],
   "source": [
    "for i,n in enumerate(nombre):\n",
    "    try:\n",
    "        ruidos[n]={}\n",
    "        ruidos[n]['df'] = ROOT.RDataFrame(treename,samples_name[i]) \n",
    "        ruidos[n]['pesos'] = 1\n",
    "        print(\"cargado\",n)\n",
    "        #print(n, \"ruido cargado\",globals()[n])\n",
    "    except Exception as e:\n",
    "        print('---->',n)\n",
    "        print(e,'\\n\\n')\n",
    "        del ruidos[n]"
   ]
  },
  {
   "cell_type": "code",
   "execution_count": 10,
   "id": "mobile-camera",
   "metadata": {},
   "outputs": [],
   "source": [
    "new_ruidos={}"
   ]
  },
  {
   "cell_type": "markdown",
   "id": "under-manchester",
   "metadata": {},
   "source": [
    "Let's Filter or data frames for the given cuts and save the final events in a new dictionary new_ruidos as Numpy arrays"
   ]
  },
  {
   "cell_type": "code",
   "execution_count": 11,
   "id": "acknowledged-archive",
   "metadata": {},
   "outputs": [
    {
     "name": "stdout",
     "output_type": "stream",
     "text": [
      "mmg \t --->\n",
      "9\n",
      "ss \t --->\n",
      "1\n",
      "dd \t --->\n",
      "0\n",
      "uu \t --->\n",
      "9\n",
      "cc \t --->\n",
      "0\n"
     ]
    },
    {
     "name": "stderr",
     "output_type": "stream",
     "text": [
      "input_line_99:10:7: warning: ignoring return value of function declared with 'nodiscard' attribute [-Wunused-result]\n",
      "      ((const vector<double>*)obj)->empty();\n",
      "      ^~~~~~~~~~~~~~~~~~~~~~~~~~~~~~~~~~~\n",
      "input_line_114:10:7: warning: ignoring return value of function declared with 'nodiscard' attribute [-Wunused-result]\n",
      "      ((const vector<int>*)obj)->empty();\n",
      "      ^~~~~~~~~~~~~~~~~~~~~~~~~~~~~~~~\n"
     ]
    }
   ],
   "source": [
    "for ruido in ruidos:\n",
    "    print(ruido,\"\\t --->\")\n",
    "    df_filter=ruidos[ruido][\"df\"].Filter(cortes_MC)\n",
    "    \n",
    "    count=df_filter.Count()\n",
    "    val_events = count.GetValue()\n",
    "    print(val_events)\n",
    "    if val_events == 0:\n",
    "        continue\n",
    "    new_ruidos[ruido]=df_filter.AsNumpy()"
   ]
  },
  {
   "cell_type": "markdown",
   "id": "utility-still",
   "metadata": {},
   "source": [
    "Open the signal sample"
   ]
  },
  {
   "cell_type": "code",
   "execution_count": 12,
   "id": "tight-familiar",
   "metadata": {},
   "outputs": [],
   "source": [
    "cut_signalid='tau_sig_isSignal == 1'\n",
    "signal = glob.glob(f\"../samples_400c/tb_signal_muon.root\")"
   ]
  },
  {
   "cell_type": "code",
   "execution_count": 13,
   "id": "native-active",
   "metadata": {},
   "outputs": [],
   "source": [
    "ruidos['signal'] = { \n",
    "    'pesos': 1.0,\n",
    "    'color': 'black',\n",
    "    'df': ROOT.RDataFrame(treename, signal),\n",
    "    #'style':1\n",
    "}"
   ]
  },
  {
   "cell_type": "markdown",
   "id": "american-parks",
   "metadata": {},
   "source": [
    "Let's apply the same cuts for the signal"
   ]
  },
  {
   "cell_type": "code",
   "execution_count": 14,
   "id": "colonial-origin",
   "metadata": {},
   "outputs": [],
   "source": [
    "df_signal_base=ruidos['signal']['df'].Filter(cortes_MC)\n",
    "df_signal = df_signal_base.Filter(cut_signalid)"
   ]
  },
  {
   "cell_type": "markdown",
   "id": "supreme-fundamentals",
   "metadata": {},
   "source": [
    "Let's check the number of final events and efficiency"
   ]
  },
  {
   "cell_type": "code",
   "execution_count": 15,
   "id": "alert-warren",
   "metadata": {},
   "outputs": [
    {
     "data": {
      "text/plain": [
       "(170441, 8.52205)"
      ]
     },
     "execution_count": 15,
     "metadata": {},
     "output_type": "execute_result"
    }
   ],
   "source": [
    "df_signal.Count().GetValue(),df_signal.Count().GetValue()*100/2000000"
   ]
  },
  {
   "cell_type": "code",
   "execution_count": 16,
   "id": "italian-movie",
   "metadata": {},
   "outputs": [],
   "source": [
    "#Let's save the final events in as Numpy arrays\n",
    "numpy_df_signal=df_signal.AsNumpy()"
   ]
  },
  {
   "cell_type": "code",
   "execution_count": 17,
   "id": "minus-preview",
   "metadata": {},
   "outputs": [],
   "source": [
    "import numpy as np"
   ]
  },
  {
   "cell_type": "markdown",
   "id": "unlikely-nicholas",
   "metadata": {},
   "source": [
    "## we will start the calculation of the rotation of the events on the variables X and Y"
   ]
  },
  {
   "cell_type": "code",
   "execution_count": 18,
   "id": "innovative-deposit",
   "metadata": {},
   "outputs": [],
   "source": [
    "xvar=numpy_df_signal['X']\n",
    "yvar=numpy_df_signal['Y']\n",
    "xvar_m=xvar-np.mean(xvar)\n",
    "yvar_m=yvar-np.mean(yvar)"
   ]
  },
  {
   "cell_type": "code",
   "execution_count": 19,
   "id": "lined-macintosh",
   "metadata": {},
   "outputs": [
    {
     "name": "stdout",
     "output_type": "stream",
     "text": [
      "[[0.00072816 0.00205702]\n",
      " [0.00205702 0.01023342]]\n",
      "[[1.        0.7535541]\n",
      " [0.7535541 1.       ]]\n",
      "[0.0003021  0.01065947] [[-0.97921617  0.20281937]\n",
      " [ 0.20281937  0.97921617]]\n",
      "[1 0]\n",
      "[0.01065947 0.0003021 ]\n",
      "0.979216167492851 0.20281937116708784\n",
      "78.29812319036661\n"
     ]
    }
   ],
   "source": [
    "mcov=np.cov(xvar_m,yvar_m)\n",
    "print(mcov)\n",
    "mcor=np.corrcoef(xvar_m,yvar_m)\n",
    "print(mcor)\n",
    "e, v = np.linalg.eigh(mcov)\n",
    "print(e,v)\n",
    "order = e.argsort()[::-1]\n",
    "print(order)\n",
    "print(e[order])\n",
    "v=v[:,order]\n",
    "print(*v[:,0][::-1])\n",
    "angle = np.degrees(np.arctan2(*v[:,0][::-1]))\n",
    "print(angle)\n",
    "yvar_m=np.array(yvar_m)\n",
    "xvar_m=np.array(xvar_m)\n",
    "#let's do the dot product\n",
    "xs = np.dot(v.T, [xvar_m,yvar_m])\n",
    "D=np.diag(1/(np.sqrt(e[order])))\n",
    "#again for normalization\n",
    "prod=np.dot(D,v.T)\n",
    "xs_with=np.dot(prod, [xvar_m,yvar_m])"
   ]
  },
  {
   "cell_type": "markdown",
   "id": "marine-preliminary",
   "metadata": {},
   "source": [
    "Let's make the products for the other samples"
   ]
  },
  {
   "cell_type": "code",
   "execution_count": 20,
   "id": "mysterious-breast",
   "metadata": {},
   "outputs": [
    {
     "name": "stdout",
     "output_type": "stream",
     "text": [
      "mmg\n",
      "ss\n",
      "uu\n"
     ]
    }
   ],
   "source": [
    "for element in new_ruidos:\n",
    "    print(element)\n",
    "    xvar_e=new_ruidos[element]['X']\n",
    "    yvar_e=new_ruidos[element]['Y']\n",
    "    xvar_e_m=xvar_e-np.mean(xvar)\n",
    "    yvar_e_m=yvar_e-np.mean(yvar)\n",
    "    yvar_e_m=np.array(yvar_e_m)\n",
    "    xvar_e_m=np.array(xvar_e_m)\n",
    "    xs_with_e=np.dot(prod, [xvar_e_m,yvar_e_m])\n",
    "    new_ruidos[element]['rotvar_x']=xs_with_e[0,:]\n",
    "    new_ruidos[element]['rotvar_y']=xs_with_e[1,:]"
   ]
  },
  {
   "cell_type": "markdown",
   "id": "departmental-edinburgh",
   "metadata": {},
   "source": [
    "Final check of the invents after a salection in diferents regions, defined after the rotation"
   ]
  },
  {
   "cell_type": "code",
   "execution_count": 21,
   "id": "differential-collector",
   "metadata": {},
   "outputs": [
    {
     "name": "stdout",
     "output_type": "stream",
     "text": [
      "--- 1\n",
      "sample mmg , 9 , 1 sigmas: 0\n",
      "sample ss , 1 , 1 sigmas: 0\n",
      "sample uu , 9 , 1 sigmas: 3\n",
      "--- 1.5\n",
      "sample mmg , 9 , 1.5 sigmas: 0\n",
      "sample ss , 1 , 1.5 sigmas: 0\n",
      "sample uu , 9 , 1.5 sigmas: 3\n",
      "--- 2\n",
      "sample mmg , 9 , 2 sigmas: 1\n",
      "sample ss , 1 , 2 sigmas: 0\n",
      "sample uu , 9 , 2 sigmas: 3\n",
      "--- 2.5\n",
      "sample mmg , 9 , 2.5 sigmas: 2\n",
      "sample ss , 1 , 2.5 sigmas: 0\n",
      "sample uu , 9 , 2.5 sigmas: 4\n",
      "--- 3\n",
      "sample mmg , 9 , 3 sigmas: 3\n",
      "sample ss , 1 , 3 sigmas: 0\n",
      "sample uu , 9 , 3 sigmas: 4\n"
     ]
    }
   ],
   "source": [
    "for sigma in [1,1.5,2,2.5,3]:\n",
    "    print('---', sigma)\n",
    "    for el in new_ruidos:\n",
    "        #if el==\"signal\":\n",
    "        #    continue\n",
    "        #print(el,plot2d[el]['rotvar_x'])\n",
    "        #print(el,plot2d[el]['rotvar_y'])\n",
    "        a2=[k*k for k in new_ruidos[el]['rotvar_x']]\n",
    "        b2=[k*k for k in new_ruidos[el]['rotvar_y']]\n",
    "        #print('x',a2)\n",
    "        #print('y',b2)\n",
    "        suma=[sum(x) for x in zip(a2, b2)]\n",
    "        #print('----')\n",
    "        #print(suma)\n",
    "\n",
    "        r2=sigma**2\n",
    "        #print('---', r2)\n",
    "        final_x=[]\n",
    "        final_y=[]\n",
    "        for j,ele in enumerate(suma):\n",
    "            if ele < r2:\n",
    "                #print('final',a2[j], b2[j])\n",
    "                final_x.append(new_ruidos[el]['rotvar_x'][j])\n",
    "                final_y.append(new_ruidos[el]['rotvar_y'][j])\n",
    "        print('sample', el, ',', len(a2), f', {sigma} sigmas:', len(final_x) )\n",
    "        #print(len(final_x)*100/2000000 )\n",
    "        #if final_x:\n",
    "        new_ruidos[el]['rotvar_x_final']=final_x\n",
    "        new_ruidos[el]['rotvar_y_final']=final_y\n",
    "\n",
    "    #break"
   ]
  }
 ],
 "metadata": {
  "kernelspec": {
   "display_name": "Python [conda env:hepML]",
   "language": "python",
   "name": "conda-env-hepML-py"
  },
  "language_info": {
   "codemirror_mode": {
    "name": "ipython",
    "version": 3
   },
   "file_extension": ".py",
   "mimetype": "text/x-python",
   "name": "python",
   "nbconvert_exporter": "python",
   "pygments_lexer": "ipython3",
   "version": "3.9.7"
  }
 },
 "nbformat": 4,
 "nbformat_minor": 5
}
